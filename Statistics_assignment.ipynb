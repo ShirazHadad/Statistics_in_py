{
 "cells": [
  {
   "cell_type": "markdown",
   "metadata": {},
   "source": [
    "# <p style=\"text-align: right; direction: rtl; float: right;\">תרגיל בית להגשה - סמסטר ב' תשפ\"ב</p>"
   ]
  },
  {
   "cell_type": "markdown",
   "metadata": {},
   "source": [
    "### <p style=\"text-align: right; direction: rtl; float: right;\">מגיש:</p>"
   ]
  },
  {
   "cell_type": "markdown",
   "metadata": {},
   "source": [
    "# Shiraz Hadad, ID 207256835"
   ]
  },
  {
   "cell_type": "markdown",
   "metadata": {},
   "source": [
    "<p style=\"text-align: right; direction: rtl; float: right; clear: both;\">\n",
    "בשעה טובה הגיע זמנו של תרגיל הבית.<br>\n",
    "את רוב השאלות אתם כבר יודעים לפתור. מה שלא - חלק גדול נלמד בתרגולים הקרובים והשאר נמצא בקבצים שהעלנו המתרגלים למודל.<br><br>\n",
    "מטרת תרגיל הבית הזה הוא לתת לכם להתנסות בפונקציות סטטסיטיות בפייתון, ושבעזרת ה' בכל פעם שתצטרכו לחשב משהו בסטטיסטיקה, בין אם בקורסים בהמשך התואר ובין אם בשוק העבודה - <mark>תרגישו בנוח לפתוח קובץ פייתון, ולקבל את התוצאות בקלות וביעילות.</mark><br>\n",
    "</p>\n",
    "<p style=\"text-align: right; direction: rtl; float: right; clear: both;\">\n",
    "את התרגיל תעשו ביחידים, ויש לפתור אותו בעצמכם.<br>\n",
    "התרגיל באמת פשוט, השתדלתי מאוד לתת כמה שיותר ערך סטטיסטי וכמה שפחות להתמקד בצד הפייתוני של העבודה.<br>\n",
    "שימו לב שאחרי התשובות, בעיקר בחלקים של מבחני ההשערות - <strong>עליכם להסביר במילים</strong> את תוצאת המבחן שביצעתם ומה מסקנתכם!! <mark>ההסבר הוא החלק החשוב ביותר.</mark><br><br>\n",
    "לאורך הקובץ אתם יכולים להוסיף תאים כראות עיניכם.<br><br>\n",
    "אין צורך לכתוב פונקציות משלכם, הספריות הסטטיסטיות שלמדנו צריכות להספיק בהחלט. הרעיון הוא שתדעו להשתמש בפונקציות, ולא שתדעו לתכנת.<br>\n",
    "מי שרוצה לבצע חישוב בצורה \"ידנית\" בפייתון כדי לוודא שהשתמש בנוסחה המתאימה לחומר שלמדנו - אין בעיה. אבל אין חובה כזו.<br>\n",
    "</p>"
   ]
  },
  {
   "cell_type": "markdown",
   "metadata": {},
   "source": [
    "### <p style=\"text-align: right; direction: rtl; float: right;\">לפני הכל - לא לשכוח לייבוא את הספריות:</p>"
   ]
  },
  {
   "cell_type": "code",
   "execution_count": 2,
   "metadata": {},
   "outputs": [],
   "source": [
    "import numpy as np\n",
    "import pandas as pd\n",
    "import scipy.stats as st \n",
    "import matplotlib.pyplot as plt\n",
    "import statsmodels.api as sm\n",
    "import statsmodels.stats.weightstats as sws\n",
    "from statsmodels.stats.proportion import proportion_confint"
   ]
  },
  {
   "cell_type": "markdown",
   "metadata": {},
   "source": [
    "<br><br><br>\n",
    "## <p style=\"text-align: right; direction: rtl; float: right;\">שאלה א.</p>"
   ]
  },
  {
   "cell_type": "markdown",
   "metadata": {},
   "source": [
    "<p style=\"text-align: right; direction: rtl; float: right; clear: both;\">\n",
    "<strong>א 1 .</strong><br>\n",
    "צרו וקטור בשם  x_unif עם 13 ערכים מהתפלגות אחידה בדידה בין 1 ל-6, והציגו אותו.<br>"
   ]
  },
  {
   "cell_type": "code",
   "execution_count": 3,
   "metadata": {},
   "outputs": [
    {
     "data": {
      "text/plain": [
       "array([4.94187371, 5.98680366, 3.0237037 , 5.91103194, 5.05032574,\n",
       "       3.4784764 , 1.65508649, 5.64719449, 5.96453105, 1.30934157,\n",
       "       2.32660232, 2.37751902, 3.01630618])"
      ]
     },
     "execution_count": 3,
     "metadata": {},
     "output_type": "execute_result"
    }
   ],
   "source": [
    "min = 1\n",
    "max = 6\n",
    "SampleSize = 13\n",
    "x_unif = np.random.uniform(min, max,SampleSize)\n",
    "x_unif"
   ]
  },
  {
   "cell_type": "markdown",
   "metadata": {},
   "source": [
    "<p style=\"text-align: right; direction: rtl; float: right; clear: both;\">\n",
    "<strong>א 2 .</strong><br>\n",
    "צרו וקטור בשם x_stand עם 8 ערכים מהתפלגות נורמלית סטנדרטית, והציגו אותו.<br>"
   ]
  },
  {
   "cell_type": "code",
   "execution_count": 4,
   "metadata": {},
   "outputs": [
    {
     "data": {
      "text/plain": [
       "array([ 1.38288222,  1.10298777, -0.75152966,  0.39030999,  0.10586335,\n",
       "        0.65006518,  1.41384981,  0.51264186])"
      ]
     },
     "execution_count": 4,
     "metadata": {},
     "output_type": "execute_result"
    }
   ],
   "source": [
    "mu = 0\n",
    "sigma = 1 \n",
    "SampleSize = 8 \n",
    "x_stand = np.random.normal(mu,sigma,SampleSize)\n",
    "x_stand"
   ]
  },
  {
   "cell_type": "markdown",
   "metadata": {},
   "source": [
    "<p style=\"text-align: right; direction: rtl; float: right; clear: both;\">\n",
    "<strong>א 3 .</strong><br>\n",
    "צרו וקטור  עם 100 ערכים מהתפלגות נורמלית עם תוחלת 100 וסטיית תקן 7, והציגו אותו.<br>"
   ]
  },
  {
   "cell_type": "code",
   "execution_count": 5,
   "metadata": {},
   "outputs": [
    {
     "data": {
      "text/plain": [
       "array([ 99.60589979, 107.18671446,  87.53668867,  93.0125512 ,\n",
       "        95.00839241,  98.15810577, 108.73929814,  97.79124093,\n",
       "        97.06863493,  88.41260151,  92.35857554,  94.1870386 ,\n",
       "        95.48504229, 102.78104389, 103.96573691,  96.98376148,\n",
       "        93.77557813,  99.03904309,  95.25790368,  99.11562436,\n",
       "       106.39385621, 100.03036838,  97.21657767, 112.81420037,\n",
       "        98.52501668,  95.67462937,  98.8023945 , 101.67866556,\n",
       "       106.74423395,  92.47917646, 100.47277644,  96.48752466,\n",
       "        93.20491554,  88.24632085, 107.60980129, 100.78862604,\n",
       "       101.11944806, 104.84204545,  90.91467569, 103.0682873 ,\n",
       "       103.84914979,  95.52832723, 100.05379754,  89.33132127,\n",
       "        97.27896806, 105.33279401, 108.27024087, 106.97665165,\n",
       "       103.32929129,  98.07597965,  89.28560723,  99.22661213,\n",
       "        90.59258902, 103.02124145,  99.09887066, 105.36322244,\n",
       "       111.73202144,  97.89325622, 109.81452699,  96.96474505,\n",
       "       104.89497679,  89.89167576, 109.61783018, 110.10478635,\n",
       "       100.10325487, 109.92912711,  97.84114087,  80.41375401,\n",
       "        90.35663355,  87.92112507,  88.9382301 , 104.39850091,\n",
       "       102.0420409 , 109.57558571, 105.87605891,  98.91072385,\n",
       "        90.26867455,  99.83691499,  76.73797767, 110.85148261,\n",
       "       106.39473774,  87.68736884,  96.08847391, 102.52391924,\n",
       "        99.15985686,  98.40111106,  78.46923104, 108.3109939 ,\n",
       "       103.84035707, 108.18849904,  93.5558385 ,  98.28986802,\n",
       "       108.1288209 , 104.47671787,  94.28248926, 109.53473016,\n",
       "       107.07665033,  90.89245556,  96.90198315,  94.32914273])"
      ]
     },
     "execution_count": 5,
     "metadata": {},
     "output_type": "execute_result"
    }
   ],
   "source": [
    "mu = 100\n",
    "sigma = 7 \n",
    "SampleSize = 100 \n",
    "y_stand = np.random.normal(mu,sigma,SampleSize)\n",
    "y_stand"
   ]
  },
  {
   "cell_type": "markdown",
   "metadata": {},
   "source": [
    "<p style=\"text-align: right; direction: rtl; float: right; clear: both;\">\n",
    "<strong>א 4 .</strong><br>\n",
    "צרו וקטור בשם x_pois עם 12 ערכים מהתפלגות פואסון עם למדא 7.3, והציגו אותו.<br>"
   ]
  },
  {
   "cell_type": "code",
   "execution_count": 6,
   "metadata": {},
   "outputs": [
    {
     "data": {
      "text/plain": [
       "array([ 7,  9,  7, 13,  5,  5,  7,  8,  8, 12,  9,  9])"
      ]
     },
     "execution_count": 6,
     "metadata": {},
     "output_type": "execute_result"
    }
   ],
   "source": [
    "lamda = 7.3\n",
    "x_pois = np.random.poisson(lamda,size = 12)\n",
    "x_pois"
   ]
  },
  {
   "cell_type": "markdown",
   "metadata": {},
   "source": [
    "<p style=\"text-align: right; direction: rtl; float: right; clear: both;\">\n",
    "<strong>א 5 .</strong><br>\n",
    "צרו וקטור בשם x_expon עם 3,000 ערכים מהתפלגות מעריכית עם למדא 7.3, ואל תציגו אותו, רק חשבו את הממוצע שלו ואת סטיית התקן המתוקנת. (שימו לב שתוחלת התפלגות מעריכית היא 1 חלקי למדא, ולא למדא).<br>"
   ]
  },
  {
   "cell_type": "code",
   "execution_count": 7,
   "metadata": {},
   "outputs": [],
   "source": [
    "mu = 7.3\n",
    "SampleSize = 3000\n",
    "x_expon = np.random.exponential(scale = mu, size = 3000)"
   ]
  },
  {
   "cell_type": "code",
   "execution_count": 8,
   "metadata": {},
   "outputs": [
    {
     "data": {
      "text/plain": [
       "7.3744210724933845"
      ]
     },
     "execution_count": 8,
     "metadata": {},
     "output_type": "execute_result"
    }
   ],
   "source": [
    "np.mean(x_expon)"
   ]
  },
  {
   "cell_type": "code",
   "execution_count": 9,
   "metadata": {},
   "outputs": [
    {
     "data": {
      "text/plain": [
       "0.1305876675786181"
      ]
     },
     "execution_count": 9,
     "metadata": {},
     "output_type": "execute_result"
    }
   ],
   "source": [
    "st.sem(x_expon,axis = 0,ddof=0)"
   ]
  },
  {
   "cell_type": "markdown",
   "metadata": {},
   "source": [
    "<p style=\"text-align: right; direction: rtl; float: right; clear: both;\">\n",
    "<strong>א 6 .</strong><br>\n",
    "צרו וקטור בשם x_binom עם 400 ערכים מהתפלגות בינומית, עם 7 ניסיונות וסיכוי להצלחה 0.15, והציגו אותו.<br>"
   ]
  },
  {
   "cell_type": "code",
   "execution_count": 10,
   "metadata": {},
   "outputs": [
    {
     "data": {
      "text/plain": [
       "array([3, 1, 3, 2, 2, 1, 1, 1, 0, 0, 3, 3, 1, 0, 2, 0, 1, 4, 3, 0, 2, 2,\n",
       "       0, 0, 0, 2, 0, 1, 1, 0, 1, 1, 1, 1, 2, 3, 0, 2, 2, 2, 0, 1, 0, 1,\n",
       "       0, 1, 1, 0, 1, 1, 0, 0, 0, 0, 1, 2, 0, 0, 2, 0, 0, 0, 1, 0, 0, 0,\n",
       "       1, 2, 2, 0, 1, 1, 1, 2, 1, 1, 2, 2, 2, 0, 1, 3, 2, 2, 3, 0, 0, 0,\n",
       "       2, 1, 2, 1, 1, 0, 1, 2, 2, 2, 1, 1, 2, 3, 2, 0, 0, 1, 0, 2, 0, 3,\n",
       "       2, 1, 0, 1, 1, 1, 2, 2, 2, 0, 1, 1, 1, 2, 1, 0, 0, 0, 1, 1, 0, 0,\n",
       "       2, 1, 1, 1, 3, 1, 0, 2, 0, 2, 1, 1, 0, 1, 2, 1, 0, 4, 0, 0, 1, 2,\n",
       "       4, 2, 0, 0, 1, 1, 1, 0, 0, 2, 2, 2, 1, 1, 0, 1, 0, 1, 2, 2, 1, 0,\n",
       "       0, 0, 1, 0, 1, 0, 0, 2, 3, 2, 2, 1, 1, 2, 1, 0, 3, 1, 2, 2, 0, 1,\n",
       "       2, 1, 1, 1, 1, 0, 1, 1, 1, 1, 0, 0, 0, 0, 2, 0, 0, 1, 0, 0, 2, 1,\n",
       "       1, 1, 3, 2, 0, 1, 2, 1, 1, 1, 0, 1, 1, 1, 0, 0, 4, 1, 1, 1, 2, 2,\n",
       "       3, 1, 3, 1, 1, 0, 1, 2, 3, 1, 1, 1, 0, 1, 1, 2, 2, 0, 0, 0, 1, 1,\n",
       "       0, 0, 1, 0, 2, 3, 0, 1, 2, 2, 0, 1, 1, 1, 1, 2, 1, 2, 1, 0, 0, 0,\n",
       "       1, 1, 2, 0, 1, 1, 3, 0, 1, 1, 0, 1, 0, 0, 1, 0, 0, 0, 2, 2, 2, 1,\n",
       "       2, 1, 2, 1, 1, 2, 1, 3, 0, 1, 2, 1, 2, 0, 0, 1, 1, 0, 0, 0, 1, 0,\n",
       "       2, 0, 0, 2, 0, 0, 0, 1, 3, 1, 0, 0, 0, 1, 1, 0, 1, 1, 1, 1, 0, 0,\n",
       "       2, 0, 2, 0, 0, 2, 2, 3, 0, 0, 1, 0, 2, 1, 0, 0, 0, 0, 1, 3, 1, 2,\n",
       "       3, 0, 2, 2, 2, 1, 2, 0, 2, 1, 2, 0, 0, 1, 0, 0, 3, 2, 2, 1, 1, 1,\n",
       "       0, 1, 2, 2])"
      ]
     },
     "execution_count": 10,
     "metadata": {},
     "output_type": "execute_result"
    }
   ],
   "source": [
    "k = 7 \n",
    "p = 0.15 \n",
    "n = 400 \n",
    "x_binom = np.random.binomial(k, p, n)\n",
    "x_binom"
   ]
  },
  {
   "cell_type": "markdown",
   "metadata": {},
   "source": [
    "<br><br><br>\n",
    "## <p style=\"text-align: right; direction: rtl; float: right;\">שאלה ב.</p>"
   ]
  },
  {
   "cell_type": "markdown",
   "metadata": {},
   "source": [
    "<p style=\"text-align: right; direction: rtl; float: right; clear: both;\">\n",
    "<strong>את הסעיפים הבאים יש לחשב באמצעות פונקציות בפייתון.</strong><br>\n",
    "אם צריך ניתן לחבר בין פונקציות או לכתוב \"אחד פחות\" וכדו'<br>\n"
   ]
  },
  {
   "cell_type": "markdown",
   "metadata": {},
   "source": [
    "<p style=\"text-align: right; direction: rtl; float: right; clear: both;\">\n",
    "<strong>ב 1 .</strong><br>\n",
    "מהו האחוזון ה-95 בהתפלגות נורמלית סטנדרטית?<br>"
   ]
  },
  {
   "cell_type": "code",
   "execution_count": 11,
   "metadata": {},
   "outputs": [
    {
     "data": {
      "text/plain": [
       "1.6448536269514722"
      ]
     },
     "execution_count": 11,
     "metadata": {},
     "output_type": "execute_result"
    }
   ],
   "source": [
    "st.norm.ppf(0.95)"
   ]
  },
  {
   "cell_type": "markdown",
   "metadata": {},
   "source": [
    "<p style=\"text-align: right; direction: rtl; float: right; clear: both;\">\n",
    "<strong>ב 2 .</strong><br>\n",
    "מהו האחוזון ה-50 בהתפלגות נורמלית עם תוחלת 70, וסטיית תקן 10?<br>"
   ]
  },
  {
   "cell_type": "code",
   "execution_count": 12,
   "metadata": {},
   "outputs": [
    {
     "data": {
      "text/plain": [
       "70.0"
      ]
     },
     "execution_count": 12,
     "metadata": {},
     "output_type": "execute_result"
    }
   ],
   "source": [
    "st.norm.ppf(0.5, 70,10)"
   ]
  },
  {
   "cell_type": "markdown",
   "metadata": {},
   "source": [
    "<p style=\"text-align: right; direction: rtl; float: right; clear: both;\">\n",
    "<strong>ב 3 .</strong><br>\n",
    "מה ערך ההתפלגות המצטברת עד 1- בהתפלגות נורמלית סטנדרטית?<br>"
   ]
  },
  {
   "cell_type": "code",
   "execution_count": 13,
   "metadata": {},
   "outputs": [
    {
     "data": {
      "text/plain": [
       "0.15865525393145707"
      ]
     },
     "execution_count": 13,
     "metadata": {},
     "output_type": "execute_result"
    }
   ],
   "source": [
    "st.norm.cdf(-1)"
   ]
  },
  {
   "cell_type": "markdown",
   "metadata": {},
   "source": [
    "<p style=\"text-align: right; direction: rtl; float: right; clear: both;\">\n",
    "<strong>ב 4 .</strong><br>\n",
    "כמה אחוז מהאוכלוסיה נמצאים בהתפלגות נורמלית בטווח שבין סטיית תקן אחת מתחת לתוחלת, לבין סטיית תקן אחת מעל התוחלת?<br>"
   ]
  },
  {
   "cell_type": "code",
   "execution_count": 14,
   "metadata": {},
   "outputs": [],
   "source": [
    "x = st.norm.cdf(11,8,1)\n",
    "y = st.norm.cdf(9,8,1)"
   ]
  },
  {
   "cell_type": "code",
   "execution_count": 15,
   "metadata": {},
   "outputs": [
    {
     "data": {
      "text/plain": [
       "15.730535589982697"
      ]
     },
     "execution_count": 15,
     "metadata": {},
     "output_type": "execute_result"
    }
   ],
   "source": [
    "population_percentage = (x - y) * 100\n",
    "population_percentage"
   ]
  },
  {
   "cell_type": "markdown",
   "metadata": {},
   "source": [
    "<p style=\"text-align: right; direction: rtl; float: right; clear: both;\">\n",
    "<strong>ב 5 .</strong><br>\n",
    "מהו ערך פונקציית הצפיפות של התפלגות נורמלית סטנדרטית בנקודה x=0?<br>"
   ]
  },
  {
   "cell_type": "code",
   "execution_count": 16,
   "metadata": {},
   "outputs": [
    {
     "data": {
      "text/plain": [
       "0.3989422804014327"
      ]
     },
     "execution_count": 16,
     "metadata": {},
     "output_type": "execute_result"
    }
   ],
   "source": [
    "st.norm.pdf(0)"
   ]
  },
  {
   "cell_type": "markdown",
   "metadata": {},
   "source": [
    "<p style=\"text-align: right; direction: rtl; float: right; clear: both;\">\n",
    "<strong>ב 6 .</strong><br>\n",
    "מהו ערך פונקציית הצפיפות של התפלגות מעריכית עם למדא=1, בנקודה x=1?<br>"
   ]
  },
  {
   "cell_type": "code",
   "execution_count": 17,
   "metadata": {},
   "outputs": [
    {
     "data": {
      "text/plain": [
       "0.36787944117144233"
      ]
     },
     "execution_count": 17,
     "metadata": {},
     "output_type": "execute_result"
    }
   ],
   "source": [
    "st.expon.pdf(1,0,1)"
   ]
  },
  {
   "cell_type": "markdown",
   "metadata": {},
   "source": [
    "<p style=\"text-align: right; direction: rtl; float: right; clear: both;\">\n",
    "<strong>ב 7 .</strong><br>\n",
    "מהי ההסתברות המצטברת בהתפלגות מעריכית (למדא=1) בנקודה x=1?<br>"
   ]
  },
  {
   "cell_type": "code",
   "execution_count": 18,
   "metadata": {},
   "outputs": [
    {
     "data": {
      "text/plain": [
       "0.6321205588285577"
      ]
     },
     "execution_count": 18,
     "metadata": {},
     "output_type": "execute_result"
    }
   ],
   "source": [
    "st.expon.cdf(1,0,1)\n"
   ]
  },
  {
   "cell_type": "markdown",
   "metadata": {},
   "source": [
    "<p style=\"text-align: right; direction: rtl; float: right; clear: both;\">\n",
    "<strong>ב 8 .</strong><br>\n",
    "מה ההסתברות לקבל 3 הצלחות בהתפלגות בינומית עם 7 ניסיונות וסיכוי להצלחה 0.15?<br>"
   ]
  },
  {
   "cell_type": "code",
   "execution_count": 19,
   "metadata": {},
   "outputs": [
    {
     "data": {
      "text/plain": [
       "0.061661988281249934"
      ]
     },
     "execution_count": 19,
     "metadata": {},
     "output_type": "execute_result"
    }
   ],
   "source": [
    "st.binom.pmf(3, 7, 0.15,loc = 0)"
   ]
  },
  {
   "cell_type": "markdown",
   "metadata": {},
   "source": [
    "<p style=\"text-align: right; direction: rtl; float: right; clear: both;\">\n",
    "<strong>ב 9 .</strong><br>\n",
    "מה ההסתברות לקבל לפחות 3 הצלחות בהתפלגות בינומית עם 7 ניסיונות וסיכוי להצלחה 0.15?<br>"
   ]
  },
  {
   "cell_type": "code",
   "execution_count": 20,
   "metadata": {},
   "outputs": [
    {
     "data": {
      "text/plain": [
       "0.07376516015625"
      ]
     },
     "execution_count": 20,
     "metadata": {},
     "output_type": "execute_result"
    }
   ],
   "source": [
    "st.binom.sf(2,7,0.15)"
   ]
  },
  {
   "cell_type": "markdown",
   "metadata": {},
   "source": [
    "<p style=\"text-align: right; direction: rtl; float: right; clear: both;\">\n",
    "<strong>ב 10 .</strong><br>\n",
    "מה ההסתברות שיגיעו בדיוק 10 מכוניות לתחנת דלק ביחידת זמן, אם קצב ההגעה מתפלג פואסונית עם למדא=10?<br>"
   ]
  },
  {
   "cell_type": "code",
   "execution_count": 21,
   "metadata": {},
   "outputs": [
    {
     "data": {
      "text/plain": [
       "0.12511003572113372"
      ]
     },
     "execution_count": 21,
     "metadata": {},
     "output_type": "execute_result"
    }
   ],
   "source": [
    "st.poisson.pmf(10,10)"
   ]
  },
  {
   "cell_type": "markdown",
   "metadata": {},
   "source": [
    "<p style=\"text-align: right; direction: rtl; float: right; clear: both;\">\n",
    "<strong>ב 11 .</strong><br>\n",
    "מה ההסתברות שיגיעו לכל היותר 10 מכוניות לתחנת דלק ביחידת זמן, אם קצב ההגעה מתפלג פואסונית עם למדא=10?<br>"
   ]
  },
  {
   "cell_type": "code",
   "execution_count": 22,
   "metadata": {},
   "outputs": [
    {
     "data": {
      "text/plain": [
       "0.5830397501929852"
      ]
     },
     "execution_count": 22,
     "metadata": {},
     "output_type": "execute_result"
    }
   ],
   "source": [
    "st.poisson.cdf(10,10)"
   ]
  },
  {
   "cell_type": "markdown",
   "metadata": {},
   "source": [
    "<p style=\"text-align: right; direction: rtl; float: right; clear: both;\">\n",
    "<strong>ב 12 .</strong><br>\n",
    "מהו האחוזון ה-92 בהתפלגות t עם 7 דרגות חופש?<br>"
   ]
  },
  {
   "cell_type": "code",
   "execution_count": 23,
   "metadata": {},
   "outputs": [
    {
     "data": {
      "text/plain": [
       "1.5717661843733877"
      ]
     },
     "execution_count": 23,
     "metadata": {},
     "output_type": "execute_result"
    }
   ],
   "source": [
    "st.t.ppf(q=0.92,df=7)"
   ]
  },
  {
   "cell_type": "markdown",
   "metadata": {},
   "source": [
    "<p style=\"text-align: right; direction: rtl; float: right; clear: both;\">\n",
    "<strong>ב 13 .</strong><br>\n",
    "בהתפלגות t, כמה שטח מכוסה בטווח שבין 1- ל1? (תבחרו כמה דרגות חופש שבא לכם)<br>"
   ]
  },
  {
   "cell_type": "code",
   "execution_count": 24,
   "metadata": {},
   "outputs": [
    {
     "data": {
      "text/plain": [
       "0.6591068676979399"
      ]
     },
     "execution_count": 24,
     "metadata": {},
     "output_type": "execute_result"
    }
   ],
   "source": [
    "x= st.t.cdf(x = 1,df = 10, loc = 0, scale = 1)\n",
    "y= st.t.cdf(x = -1,df = 10, loc = 0, scale = 1)\n",
    "x-y"
   ]
  },
  {
   "cell_type": "markdown",
   "metadata": {},
   "source": [
    "<p style=\"text-align: right; direction: rtl; float: right; clear: both;\">\n",
    "<strong>ב 14 .</strong><br>\n",
    "מה ההסתברות לקבל פחות מ-20 בדגימה אקראית מהתפלגות חי בריבוע עם 20 דרגות חופש?<br>"
   ]
  },
  {
   "cell_type": "code",
   "execution_count": 25,
   "metadata": {},
   "outputs": [
    {
     "data": {
      "text/plain": [
       "0.5420702855281478"
      ]
     },
     "execution_count": 25,
     "metadata": {},
     "output_type": "execute_result"
    }
   ],
   "source": [
    "st.chi2.cdf(20,20)"
   ]
  },
  {
   "cell_type": "markdown",
   "metadata": {},
   "source": [
    "<p style=\"text-align: right; direction: rtl; float: right; clear: both;\">\n",
    "<strong>ב 15 .</strong><br>\n",
    "לקחנו 2 משתנים שמתפלגים חי-בריבוע וחילקנו אותם זה בזה. במונה היה משתנה עם 71 ד\"ח, ובמכנה היה משתנה עם 26 דרגות חופש. מה ההסתברות לקבל ערך גדול מ-1.5? (שימו לב איזה התפלגות זו?)<br>"
   ]
  },
  {
   "cell_type": "code",
   "execution_count": 26,
   "metadata": {},
   "outputs": [
    {
     "data": {
      "text/plain": [
       "0.12453707113979473"
      ]
     },
     "execution_count": 26,
     "metadata": {},
     "output_type": "execute_result"
    }
   ],
   "source": [
    "1-st.f.cdf(1.5, 71, 26)"
   ]
  },
  {
   "cell_type": "markdown",
   "metadata": {},
   "source": [
    "<p style=\"text-align: right; direction: rtl; float: right; clear: both;\">\n",
    "<strong>ב 16 .</strong><br>\n",
    "בהתפלגות F, עם 12 ד\"ח במונה ו-20 ד\"ח במכנה. מה ההסתברות לקבל ערך קטן מ-0.3937?<br>"
   ]
  },
  {
   "cell_type": "code",
   "execution_count": 27,
   "metadata": {},
   "outputs": [
    {
     "data": {
      "text/plain": [
       "0.050246693977039694"
      ]
     },
     "execution_count": 27,
     "metadata": {},
     "output_type": "execute_result"
    }
   ],
   "source": [
    "st.f.cdf(0.3937,12,20)"
   ]
  },
  {
   "cell_type": "markdown",
   "metadata": {},
   "source": [
    "<br><br><br>\n",
    "## <p style=\"text-align: right; direction: rtl; float: right;\">שאלה ג.</p>"
   ]
  },
  {
   "cell_type": "markdown",
   "metadata": {},
   "source": [
    "<p style=\"text-align: right; direction: rtl; float: right; clear: both;\">\n",
    "קיראו את הקובץ nba_salaries.<br>\n",
    "ניתן להעזר בקטע קוד הבא, הכניסו את הנתיב לתיקיה שבה שמרתם את הקובץ. שימו לב לכיוון הסלשים.<br><br>      \n",
    "</p>\n",
    "<p style=\"text-align: right; direction: rtl; float: right; clear: both;\">\n",
    "בקובץ מפורטים: שמות השחקנים, הקבוצה אליה הם משתייכים, מספר הגופיה שלהם, עמדה על המגרש, גיל, גובה, משקל, הקולג' בו למדו ושיחקו, והמשכורת של השחקן.<br>"
   ]
  },
  {
   "cell_type": "code",
   "execution_count": 28,
   "metadata": {},
   "outputs": [
    {
     "ename": "URLError",
     "evalue": "<urlopen error [WinError 3] The system cannot find the path specified: 'C:\\\\Users\\\\שירז\\\\סטטיסטיקה\\\\מטלה פייתון\\\\nba_salaries.csv'>",
     "output_type": "error",
     "traceback": [
      "\u001b[1;31m---------------------------------------------------------------------------\u001b[0m",
      "\u001b[1;31mFileNotFoundError\u001b[0m                         Traceback (most recent call last)",
      "\u001b[1;32m~\\anaconda3\\lib\\urllib\\request.py\u001b[0m in \u001b[0;36mopen_local_file\u001b[1;34m(self, req)\u001b[0m\n\u001b[0;32m   1506\u001b[0m         \u001b[1;32mtry\u001b[0m\u001b[1;33m:\u001b[0m\u001b[1;33m\u001b[0m\u001b[1;33m\u001b[0m\u001b[0m\n\u001b[1;32m-> 1507\u001b[1;33m             \u001b[0mstats\u001b[0m \u001b[1;33m=\u001b[0m \u001b[0mos\u001b[0m\u001b[1;33m.\u001b[0m\u001b[0mstat\u001b[0m\u001b[1;33m(\u001b[0m\u001b[0mlocalfile\u001b[0m\u001b[1;33m)\u001b[0m\u001b[1;33m\u001b[0m\u001b[1;33m\u001b[0m\u001b[0m\n\u001b[0m\u001b[0;32m   1508\u001b[0m             \u001b[0msize\u001b[0m \u001b[1;33m=\u001b[0m \u001b[0mstats\u001b[0m\u001b[1;33m.\u001b[0m\u001b[0mst_size\u001b[0m\u001b[1;33m\u001b[0m\u001b[1;33m\u001b[0m\u001b[0m\n",
      "\u001b[1;31mFileNotFoundError\u001b[0m: [WinError 3] The system cannot find the path specified: 'C:\\\\Users\\\\שירז\\\\סטטיסטיקה\\\\מטלה פייתון\\\\nba_salaries.csv'",
      "\nDuring handling of the above exception, another exception occurred:\n",
      "\u001b[1;31mURLError\u001b[0m                                  Traceback (most recent call last)",
      "\u001b[1;32m<ipython-input-28-fff12b0bd921>\u001b[0m in \u001b[0;36m<module>\u001b[1;34m\u001b[0m\n\u001b[0;32m      1\u001b[0m \u001b[0mPATH\u001b[0m \u001b[1;33m=\u001b[0m \u001b[1;34m\"file:///C:/Users/שירז/סטטיסטיקה/מטלה%20פייתון/nba_salaries.csv\"\u001b[0m\u001b[1;33m\u001b[0m\u001b[1;33m\u001b[0m\u001b[0m\n\u001b[1;32m----> 2\u001b[1;33m \u001b[0mnba_salaries\u001b[0m \u001b[1;33m=\u001b[0m \u001b[0mpd\u001b[0m\u001b[1;33m.\u001b[0m\u001b[0mread_csv\u001b[0m\u001b[1;33m(\u001b[0m\u001b[0mPATH\u001b[0m\u001b[1;33m)\u001b[0m\u001b[1;33m\u001b[0m\u001b[1;33m\u001b[0m\u001b[0m\n\u001b[0m\u001b[0;32m      3\u001b[0m \u001b[0mnba_salaries\u001b[0m\u001b[1;33m.\u001b[0m\u001b[0mhead\u001b[0m\u001b[1;33m(\u001b[0m\u001b[1;33m)\u001b[0m\u001b[1;33m\u001b[0m\u001b[1;33m\u001b[0m\u001b[0m\n",
      "\u001b[1;32m~\\anaconda3\\lib\\site-packages\\pandas\\io\\parsers.py\u001b[0m in \u001b[0;36mparser_f\u001b[1;34m(filepath_or_buffer, sep, delimiter, header, names, index_col, usecols, squeeze, prefix, mangle_dupe_cols, dtype, engine, converters, true_values, false_values, skipinitialspace, skiprows, skipfooter, nrows, na_values, keep_default_na, na_filter, verbose, skip_blank_lines, parse_dates, infer_datetime_format, keep_date_col, date_parser, dayfirst, cache_dates, iterator, chunksize, compression, thousands, decimal, lineterminator, quotechar, quoting, doublequote, escapechar, comment, encoding, dialect, error_bad_lines, warn_bad_lines, delim_whitespace, low_memory, memory_map, float_precision)\u001b[0m\n\u001b[0;32m    674\u001b[0m         )\n\u001b[0;32m    675\u001b[0m \u001b[1;33m\u001b[0m\u001b[0m\n\u001b[1;32m--> 676\u001b[1;33m         \u001b[1;32mreturn\u001b[0m \u001b[0m_read\u001b[0m\u001b[1;33m(\u001b[0m\u001b[0mfilepath_or_buffer\u001b[0m\u001b[1;33m,\u001b[0m \u001b[0mkwds\u001b[0m\u001b[1;33m)\u001b[0m\u001b[1;33m\u001b[0m\u001b[1;33m\u001b[0m\u001b[0m\n\u001b[0m\u001b[0;32m    677\u001b[0m \u001b[1;33m\u001b[0m\u001b[0m\n\u001b[0;32m    678\u001b[0m     \u001b[0mparser_f\u001b[0m\u001b[1;33m.\u001b[0m\u001b[0m__name__\u001b[0m \u001b[1;33m=\u001b[0m \u001b[0mname\u001b[0m\u001b[1;33m\u001b[0m\u001b[1;33m\u001b[0m\u001b[0m\n",
      "\u001b[1;32m~\\anaconda3\\lib\\site-packages\\pandas\\io\\parsers.py\u001b[0m in \u001b[0;36m_read\u001b[1;34m(filepath_or_buffer, kwds)\u001b[0m\n\u001b[0;32m    428\u001b[0m     \u001b[1;31m# though mypy handling of conditional imports is difficult.\u001b[0m\u001b[1;33m\u001b[0m\u001b[1;33m\u001b[0m\u001b[1;33m\u001b[0m\u001b[0m\n\u001b[0;32m    429\u001b[0m     \u001b[1;31m# See https://github.com/python/mypy/issues/1297\u001b[0m\u001b[1;33m\u001b[0m\u001b[1;33m\u001b[0m\u001b[1;33m\u001b[0m\u001b[0m\n\u001b[1;32m--> 430\u001b[1;33m     fp_or_buf, _, compression, should_close = get_filepath_or_buffer(\n\u001b[0m\u001b[0;32m    431\u001b[0m         \u001b[0mfilepath_or_buffer\u001b[0m\u001b[1;33m,\u001b[0m \u001b[0mencoding\u001b[0m\u001b[1;33m,\u001b[0m \u001b[0mcompression\u001b[0m\u001b[1;33m\u001b[0m\u001b[1;33m\u001b[0m\u001b[0m\n\u001b[0;32m    432\u001b[0m     )\n",
      "\u001b[1;32m~\\anaconda3\\lib\\site-packages\\pandas\\io\\common.py\u001b[0m in \u001b[0;36mget_filepath_or_buffer\u001b[1;34m(filepath_or_buffer, encoding, compression, mode)\u001b[0m\n\u001b[0;32m    170\u001b[0m \u001b[1;33m\u001b[0m\u001b[0m\n\u001b[0;32m    171\u001b[0m     \u001b[1;32mif\u001b[0m \u001b[0misinstance\u001b[0m\u001b[1;33m(\u001b[0m\u001b[0mfilepath_or_buffer\u001b[0m\u001b[1;33m,\u001b[0m \u001b[0mstr\u001b[0m\u001b[1;33m)\u001b[0m \u001b[1;32mand\u001b[0m \u001b[0mis_url\u001b[0m\u001b[1;33m(\u001b[0m\u001b[0mfilepath_or_buffer\u001b[0m\u001b[1;33m)\u001b[0m\u001b[1;33m:\u001b[0m\u001b[1;33m\u001b[0m\u001b[1;33m\u001b[0m\u001b[0m\n\u001b[1;32m--> 172\u001b[1;33m         \u001b[0mreq\u001b[0m \u001b[1;33m=\u001b[0m \u001b[0murlopen\u001b[0m\u001b[1;33m(\u001b[0m\u001b[0mfilepath_or_buffer\u001b[0m\u001b[1;33m)\u001b[0m\u001b[1;33m\u001b[0m\u001b[1;33m\u001b[0m\u001b[0m\n\u001b[0m\u001b[0;32m    173\u001b[0m         \u001b[0mcontent_encoding\u001b[0m \u001b[1;33m=\u001b[0m \u001b[0mreq\u001b[0m\u001b[1;33m.\u001b[0m\u001b[0mheaders\u001b[0m\u001b[1;33m.\u001b[0m\u001b[0mget\u001b[0m\u001b[1;33m(\u001b[0m\u001b[1;34m\"Content-Encoding\"\u001b[0m\u001b[1;33m,\u001b[0m \u001b[1;32mNone\u001b[0m\u001b[1;33m)\u001b[0m\u001b[1;33m\u001b[0m\u001b[1;33m\u001b[0m\u001b[0m\n\u001b[0;32m    174\u001b[0m         \u001b[1;32mif\u001b[0m \u001b[0mcontent_encoding\u001b[0m \u001b[1;33m==\u001b[0m \u001b[1;34m\"gzip\"\u001b[0m\u001b[1;33m:\u001b[0m\u001b[1;33m\u001b[0m\u001b[1;33m\u001b[0m\u001b[0m\n",
      "\u001b[1;32m~\\anaconda3\\lib\\site-packages\\pandas\\io\\common.py\u001b[0m in \u001b[0;36murlopen\u001b[1;34m(*args, **kwargs)\u001b[0m\n\u001b[0;32m    139\u001b[0m     \u001b[1;32mimport\u001b[0m \u001b[0murllib\u001b[0m\u001b[1;33m.\u001b[0m\u001b[0mrequest\u001b[0m\u001b[1;33m\u001b[0m\u001b[1;33m\u001b[0m\u001b[0m\n\u001b[0;32m    140\u001b[0m \u001b[1;33m\u001b[0m\u001b[0m\n\u001b[1;32m--> 141\u001b[1;33m     \u001b[1;32mreturn\u001b[0m \u001b[0murllib\u001b[0m\u001b[1;33m.\u001b[0m\u001b[0mrequest\u001b[0m\u001b[1;33m.\u001b[0m\u001b[0murlopen\u001b[0m\u001b[1;33m(\u001b[0m\u001b[1;33m*\u001b[0m\u001b[0margs\u001b[0m\u001b[1;33m,\u001b[0m \u001b[1;33m**\u001b[0m\u001b[0mkwargs\u001b[0m\u001b[1;33m)\u001b[0m\u001b[1;33m\u001b[0m\u001b[1;33m\u001b[0m\u001b[0m\n\u001b[0m\u001b[0;32m    142\u001b[0m \u001b[1;33m\u001b[0m\u001b[0m\n\u001b[0;32m    143\u001b[0m \u001b[1;33m\u001b[0m\u001b[0m\n",
      "\u001b[1;32m~\\anaconda3\\lib\\urllib\\request.py\u001b[0m in \u001b[0;36murlopen\u001b[1;34m(url, data, timeout, cafile, capath, cadefault, context)\u001b[0m\n\u001b[0;32m    220\u001b[0m     \u001b[1;32melse\u001b[0m\u001b[1;33m:\u001b[0m\u001b[1;33m\u001b[0m\u001b[1;33m\u001b[0m\u001b[0m\n\u001b[0;32m    221\u001b[0m         \u001b[0mopener\u001b[0m \u001b[1;33m=\u001b[0m \u001b[0m_opener\u001b[0m\u001b[1;33m\u001b[0m\u001b[1;33m\u001b[0m\u001b[0m\n\u001b[1;32m--> 222\u001b[1;33m     \u001b[1;32mreturn\u001b[0m \u001b[0mopener\u001b[0m\u001b[1;33m.\u001b[0m\u001b[0mopen\u001b[0m\u001b[1;33m(\u001b[0m\u001b[0murl\u001b[0m\u001b[1;33m,\u001b[0m \u001b[0mdata\u001b[0m\u001b[1;33m,\u001b[0m \u001b[0mtimeout\u001b[0m\u001b[1;33m)\u001b[0m\u001b[1;33m\u001b[0m\u001b[1;33m\u001b[0m\u001b[0m\n\u001b[0m\u001b[0;32m    223\u001b[0m \u001b[1;33m\u001b[0m\u001b[0m\n\u001b[0;32m    224\u001b[0m \u001b[1;32mdef\u001b[0m \u001b[0minstall_opener\u001b[0m\u001b[1;33m(\u001b[0m\u001b[0mopener\u001b[0m\u001b[1;33m)\u001b[0m\u001b[1;33m:\u001b[0m\u001b[1;33m\u001b[0m\u001b[1;33m\u001b[0m\u001b[0m\n",
      "\u001b[1;32m~\\anaconda3\\lib\\urllib\\request.py\u001b[0m in \u001b[0;36mopen\u001b[1;34m(self, fullurl, data, timeout)\u001b[0m\n\u001b[0;32m    523\u001b[0m \u001b[1;33m\u001b[0m\u001b[0m\n\u001b[0;32m    524\u001b[0m         \u001b[0msys\u001b[0m\u001b[1;33m.\u001b[0m\u001b[0maudit\u001b[0m\u001b[1;33m(\u001b[0m\u001b[1;34m'urllib.Request'\u001b[0m\u001b[1;33m,\u001b[0m \u001b[0mreq\u001b[0m\u001b[1;33m.\u001b[0m\u001b[0mfull_url\u001b[0m\u001b[1;33m,\u001b[0m \u001b[0mreq\u001b[0m\u001b[1;33m.\u001b[0m\u001b[0mdata\u001b[0m\u001b[1;33m,\u001b[0m \u001b[0mreq\u001b[0m\u001b[1;33m.\u001b[0m\u001b[0mheaders\u001b[0m\u001b[1;33m,\u001b[0m \u001b[0mreq\u001b[0m\u001b[1;33m.\u001b[0m\u001b[0mget_method\u001b[0m\u001b[1;33m(\u001b[0m\u001b[1;33m)\u001b[0m\u001b[1;33m)\u001b[0m\u001b[1;33m\u001b[0m\u001b[1;33m\u001b[0m\u001b[0m\n\u001b[1;32m--> 525\u001b[1;33m         \u001b[0mresponse\u001b[0m \u001b[1;33m=\u001b[0m \u001b[0mself\u001b[0m\u001b[1;33m.\u001b[0m\u001b[0m_open\u001b[0m\u001b[1;33m(\u001b[0m\u001b[0mreq\u001b[0m\u001b[1;33m,\u001b[0m \u001b[0mdata\u001b[0m\u001b[1;33m)\u001b[0m\u001b[1;33m\u001b[0m\u001b[1;33m\u001b[0m\u001b[0m\n\u001b[0m\u001b[0;32m    526\u001b[0m \u001b[1;33m\u001b[0m\u001b[0m\n\u001b[0;32m    527\u001b[0m         \u001b[1;31m# post-process response\u001b[0m\u001b[1;33m\u001b[0m\u001b[1;33m\u001b[0m\u001b[1;33m\u001b[0m\u001b[0m\n",
      "\u001b[1;32m~\\anaconda3\\lib\\urllib\\request.py\u001b[0m in \u001b[0;36m_open\u001b[1;34m(self, req, data)\u001b[0m\n\u001b[0;32m    540\u001b[0m \u001b[1;33m\u001b[0m\u001b[0m\n\u001b[0;32m    541\u001b[0m         \u001b[0mprotocol\u001b[0m \u001b[1;33m=\u001b[0m \u001b[0mreq\u001b[0m\u001b[1;33m.\u001b[0m\u001b[0mtype\u001b[0m\u001b[1;33m\u001b[0m\u001b[1;33m\u001b[0m\u001b[0m\n\u001b[1;32m--> 542\u001b[1;33m         result = self._call_chain(self.handle_open, protocol, protocol +\n\u001b[0m\u001b[0;32m    543\u001b[0m                                   '_open', req)\n\u001b[0;32m    544\u001b[0m         \u001b[1;32mif\u001b[0m \u001b[0mresult\u001b[0m\u001b[1;33m:\u001b[0m\u001b[1;33m\u001b[0m\u001b[1;33m\u001b[0m\u001b[0m\n",
      "\u001b[1;32m~\\anaconda3\\lib\\urllib\\request.py\u001b[0m in \u001b[0;36m_call_chain\u001b[1;34m(self, chain, kind, meth_name, *args)\u001b[0m\n\u001b[0;32m    500\u001b[0m         \u001b[1;32mfor\u001b[0m \u001b[0mhandler\u001b[0m \u001b[1;32min\u001b[0m \u001b[0mhandlers\u001b[0m\u001b[1;33m:\u001b[0m\u001b[1;33m\u001b[0m\u001b[1;33m\u001b[0m\u001b[0m\n\u001b[0;32m    501\u001b[0m             \u001b[0mfunc\u001b[0m \u001b[1;33m=\u001b[0m \u001b[0mgetattr\u001b[0m\u001b[1;33m(\u001b[0m\u001b[0mhandler\u001b[0m\u001b[1;33m,\u001b[0m \u001b[0mmeth_name\u001b[0m\u001b[1;33m)\u001b[0m\u001b[1;33m\u001b[0m\u001b[1;33m\u001b[0m\u001b[0m\n\u001b[1;32m--> 502\u001b[1;33m             \u001b[0mresult\u001b[0m \u001b[1;33m=\u001b[0m \u001b[0mfunc\u001b[0m\u001b[1;33m(\u001b[0m\u001b[1;33m*\u001b[0m\u001b[0margs\u001b[0m\u001b[1;33m)\u001b[0m\u001b[1;33m\u001b[0m\u001b[1;33m\u001b[0m\u001b[0m\n\u001b[0m\u001b[0;32m    503\u001b[0m             \u001b[1;32mif\u001b[0m \u001b[0mresult\u001b[0m \u001b[1;32mis\u001b[0m \u001b[1;32mnot\u001b[0m \u001b[1;32mNone\u001b[0m\u001b[1;33m:\u001b[0m\u001b[1;33m\u001b[0m\u001b[1;33m\u001b[0m\u001b[0m\n\u001b[0;32m    504\u001b[0m                 \u001b[1;32mreturn\u001b[0m \u001b[0mresult\u001b[0m\u001b[1;33m\u001b[0m\u001b[1;33m\u001b[0m\u001b[0m\n",
      "\u001b[1;32m~\\anaconda3\\lib\\urllib\\request.py\u001b[0m in \u001b[0;36mfile_open\u001b[1;34m(self, req)\u001b[0m\n\u001b[0;32m   1483\u001b[0m                 \u001b[1;32mraise\u001b[0m \u001b[0mURLError\u001b[0m\u001b[1;33m(\u001b[0m\u001b[1;34m\"file:// scheme is supported only on localhost\"\u001b[0m\u001b[1;33m)\u001b[0m\u001b[1;33m\u001b[0m\u001b[1;33m\u001b[0m\u001b[0m\n\u001b[0;32m   1484\u001b[0m         \u001b[1;32melse\u001b[0m\u001b[1;33m:\u001b[0m\u001b[1;33m\u001b[0m\u001b[1;33m\u001b[0m\u001b[0m\n\u001b[1;32m-> 1485\u001b[1;33m             \u001b[1;32mreturn\u001b[0m \u001b[0mself\u001b[0m\u001b[1;33m.\u001b[0m\u001b[0mopen_local_file\u001b[0m\u001b[1;33m(\u001b[0m\u001b[0mreq\u001b[0m\u001b[1;33m)\u001b[0m\u001b[1;33m\u001b[0m\u001b[1;33m\u001b[0m\u001b[0m\n\u001b[0m\u001b[0;32m   1486\u001b[0m \u001b[1;33m\u001b[0m\u001b[0m\n\u001b[0;32m   1487\u001b[0m     \u001b[1;31m# names for the localhost\u001b[0m\u001b[1;33m\u001b[0m\u001b[1;33m\u001b[0m\u001b[1;33m\u001b[0m\u001b[0m\n",
      "\u001b[1;32m~\\anaconda3\\lib\\urllib\\request.py\u001b[0m in \u001b[0;36mopen_local_file\u001b[1;34m(self, req)\u001b[0m\n\u001b[0;32m   1522\u001b[0m                 \u001b[1;32mreturn\u001b[0m \u001b[0maddinfourl\u001b[0m\u001b[1;33m(\u001b[0m\u001b[0mopen\u001b[0m\u001b[1;33m(\u001b[0m\u001b[0mlocalfile\u001b[0m\u001b[1;33m,\u001b[0m \u001b[1;34m'rb'\u001b[0m\u001b[1;33m)\u001b[0m\u001b[1;33m,\u001b[0m \u001b[0mheaders\u001b[0m\u001b[1;33m,\u001b[0m \u001b[0morigurl\u001b[0m\u001b[1;33m)\u001b[0m\u001b[1;33m\u001b[0m\u001b[1;33m\u001b[0m\u001b[0m\n\u001b[0;32m   1523\u001b[0m         \u001b[1;32mexcept\u001b[0m \u001b[0mOSError\u001b[0m \u001b[1;32mas\u001b[0m \u001b[0mexp\u001b[0m\u001b[1;33m:\u001b[0m\u001b[1;33m\u001b[0m\u001b[1;33m\u001b[0m\u001b[0m\n\u001b[1;32m-> 1524\u001b[1;33m             \u001b[1;32mraise\u001b[0m \u001b[0mURLError\u001b[0m\u001b[1;33m(\u001b[0m\u001b[0mexp\u001b[0m\u001b[1;33m)\u001b[0m\u001b[1;33m\u001b[0m\u001b[1;33m\u001b[0m\u001b[0m\n\u001b[0m\u001b[0;32m   1525\u001b[0m         \u001b[1;32mraise\u001b[0m \u001b[0mURLError\u001b[0m\u001b[1;33m(\u001b[0m\u001b[1;34m'file not on local host'\u001b[0m\u001b[1;33m)\u001b[0m\u001b[1;33m\u001b[0m\u001b[1;33m\u001b[0m\u001b[0m\n\u001b[0;32m   1526\u001b[0m \u001b[1;33m\u001b[0m\u001b[0m\n",
      "\u001b[1;31mURLError\u001b[0m: <urlopen error [WinError 3] The system cannot find the path specified: 'C:\\\\Users\\\\שירז\\\\סטטיסטיקה\\\\מטלה פייתון\\\\nba_salaries.csv'>"
     ]
    }
   ],
   "source": [
    "PATH = \"file:///C:/Users/שירז/סטטיסטיקה/מטלה%20פייתון/nba_salaries.csv\"\n",
    "nba_salaries = pd.read_csv(PATH)\n",
    "nba_salaries.head()"
   ]
  },
  {
   "cell_type": "markdown",
   "metadata": {},
   "source": [
    "<p style=\"text-align: right; direction: rtl; float: right; clear: both;\">\n",
    "כדי לא להסתבך, נזרוק את כל השורות שיש בהן NaN.<br>\n",
    "בעתיד אתם תשתמשו בחומר של סטטיסטיקה כדי לנהל בצורה יותר חכמה ערכים חסרים, אבל זה מחוץ לסקופ של הקורס שלנו.<br>"
   ]
  },
  {
   "cell_type": "code",
   "execution_count": null,
   "metadata": {},
   "outputs": [],
   "source": [
    "nba_salaries = nba_salaries.dropna()\n",
    "nba_salaries.head()"
   ]
  },
  {
   "cell_type": "markdown",
   "metadata": {},
   "source": [
    "<p style=\"text-align: right; direction: rtl; float: right; clear: both;\">\n",
    "כדי לבחור למשל את העמודה של המשכורות אנחנו יכולים להשתמש בפקודה הבאה:<br>"
   ]
  },
  {
   "cell_type": "code",
   "execution_count": 31,
   "metadata": {},
   "outputs": [
    {
     "data": {
      "text/plain": [
       "0      7730337.0\n",
       "1      6796117.0\n",
       "3      1148640.0\n",
       "6      1170960.0\n",
       "7      2165160.0\n",
       "         ...    \n",
       "449    1348440.0\n",
       "451     981348.0\n",
       "452    2239800.0\n",
       "453    2433333.0\n",
       "456     947276.0\n",
       "Name: Salary, Length: 364, dtype: float64"
      ]
     },
     "execution_count": 31,
     "metadata": {},
     "output_type": "execute_result"
    }
   ],
   "source": [
    "nba_salaries['Salary']"
   ]
  },
  {
   "cell_type": "markdown",
   "metadata": {},
   "source": [
    "<p style=\"text-align: right; direction: rtl; float: right; clear: both;\">\n",
    "<strong>ג 1 .</strong><br>\n",
    "צרו רווח סמך ברמת ביטחון 95% לתוחלת השכר של שחקן NBA.<br>"
   ]
  },
  {
   "cell_type": "markdown",
   "metadata": {},
   "source": [
    "#### לא נתונה לנו השונות וגודל המדגם גדול מ-30, לכן נשתמש במבחן t"
   ]
  },
  {
   "cell_type": "code",
   "execution_count": 32,
   "metadata": {},
   "outputs": [
    {
     "data": {
      "text/plain": [
       "(4092603.1028615795, 5148019.039995564)"
      ]
     },
     "execution_count": 32,
     "metadata": {},
     "output_type": "execute_result"
    }
   ],
   "source": [
    "st.t.interval(alpha=0.95, df=nba_salaries['Salary'].count()-1, loc=np.mean(nba_salaries['Salary']), scale=st.sem(nba_salaries['Salary']))"
   ]
  },
  {
   "cell_type": "markdown",
   "metadata": {},
   "source": [
    "<p style=\"text-align: right; direction: rtl; float: right; clear: both;\">\n",
    "<strong>ג 2 .</strong><br>\n",
    "נניח שיצא שהרווח הוא: [5,000,000 , 4,000,000]. האם ניתן לומר כי 95% מהשחקנים ב-NBA מרוויחים בין 4 ל-5 מיליון דולר? הסבירו.<br>"
   ]
  },
  {
   "cell_type": "markdown",
   "metadata": {},
   "source": [
    "### כאשר אנו עושים רווח סמך אנחנו מקבלים את הטווח ברמת ביטחון מסויימת (לדוגמה 95%) שהמשמעות הדבר זה שאנחנו נפלול בטווח שקיבלנו ברמת ביטחון 95% , אבל על מנת לקבל את אחוז השחקנים שיפלו בתוך הטווח עלינו לעשות רווח סמך לטולרנס ואז אם קיבלנו 95% אז ניתן להגיד ש 95% מהשחקנים יכולים ליפול בטווח הזה"
   ]
  },
  {
   "cell_type": "markdown",
   "metadata": {},
   "source": [
    "<p style=\"text-align: right; direction: rtl; float: right; clear: both;\">\n",
    "<strong>ג 3 .</strong><br>\n",
    "מהו האומדן הנקודתי לפרופורציית מספר הסנטרים בליגה?<br>"
   ]
  },
  {
   "cell_type": "markdown",
   "metadata": {},
   "source": [
    "<p style=\"text-align: right; direction: rtl; float: right; clear: both;\">\n",
    "נוכל להשתמש בפקודה הזו כדי לספור כמה שחקנים יש בדאטה-בייס שלנו בעמדת הסנטר:<br>"
   ]
  },
  {
   "cell_type": "code",
   "execution_count": 33,
   "metadata": {},
   "outputs": [
    {
     "data": {
      "text/plain": [
       "49"
      ]
     },
     "execution_count": 33,
     "metadata": {},
     "output_type": "execute_result"
    }
   ],
   "source": [
    "num_of_centers = nba_salaries['Position'][nba_salaries['Position']=='C'].count()\n",
    "num_of_centers"
   ]
  },
  {
   "cell_type": "markdown",
   "metadata": {},
   "source": [
    "<p style=\"text-align: right; direction: rtl; float: right; clear: both;\">\n",
    "ובפקודה הזו כדי לספור כמה שחקנים יש סך הכל בדאטה-בייס שלנו:<br>"
   ]
  },
  {
   "cell_type": "code",
   "execution_count": 39,
   "metadata": {},
   "outputs": [
    {
     "data": {
      "text/plain": [
       "364"
      ]
     },
     "execution_count": 39,
     "metadata": {},
     "output_type": "execute_result"
    }
   ],
   "source": [
    "players = len(nba_salaries)\n",
    "players"
   ]
  },
  {
   "cell_type": "code",
   "execution_count": 40,
   "metadata": {},
   "outputs": [
    {
     "data": {
      "text/plain": [
       "0.1346153846153846"
      ]
     },
     "execution_count": 40,
     "metadata": {},
     "output_type": "execute_result"
    }
   ],
   "source": [
    "x = num_of_centers / players\n",
    "x"
   ]
  },
  {
   "cell_type": "markdown",
   "metadata": {},
   "source": [
    "<p style=\"text-align: right; direction: rtl; float: right; clear: both;\">\n",
    "<strong>ג 4 .</strong><br>\n",
    "צרו רווח סמך לפרופורציית מספר הסנטרים בליגה (95%). <br>"
   ]
  },
  {
   "cell_type": "code",
   "execution_count": 41,
   "metadata": {},
   "outputs": [
    {
     "data": {
      "text/plain": [
       "(0.09955236356343752, 0.1696784056673317)"
      ]
     },
     "execution_count": 41,
     "metadata": {},
     "output_type": "execute_result"
    }
   ],
   "source": [
    "proportion_confint(count=49,    # Number of centers\n",
    "                   nobs=364,    # Number of players\n",
    "                   alpha=0.05)"
   ]
  },
  {
   "cell_type": "markdown",
   "metadata": {},
   "source": [
    "<p style=\"text-align: right; direction: rtl; float: right; clear: both;\">\n",
    "<strong>ג 5 .</strong><br>\n",
    "מהי המשכורת הממוצעת לשחקן NBA?<br>"
   ]
  },
  {
   "cell_type": "code",
   "execution_count": 42,
   "metadata": {},
   "outputs": [
    {
     "data": {
      "text/plain": [
       "4620311.071428572"
      ]
     },
     "execution_count": 42,
     "metadata": {},
     "output_type": "execute_result"
    }
   ],
   "source": [
    "np.mean(nba_salaries['Salary'])"
   ]
  },
  {
   "cell_type": "markdown",
   "metadata": {},
   "source": [
    "<p style=\"text-align: right; direction: rtl; float: right; clear: both;\">\n",
    "<strong>ג 6 .</strong><br>\n",
    "בידקו את ההשערה כי תוחלת השכר של שחקנים בעמדת הסנטר גבוהה יותר מתוחלת השכר הכללית. מה מסקנתך ברמת מובהקות של 5%? של 10%?<br>"
   ]
  },
  {
   "cell_type": "markdown",
   "metadata": {},
   "source": [
    "<p style=\"text-align: right; direction: rtl; float: right; clear: both;\">\n",
    "בצורה הבאה נוכל לקחת וקטור נתונים של כל המשכורות של השחקנים בעמדת הסנטר:<br>"
   ]
  },
  {
   "cell_type": "code",
   "execution_count": 32,
   "metadata": {},
   "outputs": [
    {
     "data": {
      "text/plain": [
       "7      2165160.0\n",
       "10     2569260.0\n",
       "14     2616975.0\n",
       "23    19689000.0\n",
       "27      947276.0\n",
       "Name: Salary, dtype: float64"
      ]
     },
     "execution_count": 32,
     "metadata": {},
     "output_type": "execute_result"
    }
   ],
   "source": [
    "salary_of_centers = nba_salaries['Salary'][nba_salaries['Position']=='C']\n",
    "salary_of_centers.head()"
   ]
  },
  {
   "cell_type": "code",
   "execution_count": 44,
   "metadata": {},
   "outputs": [
    {
     "data": {
      "text/plain": [
       "Ttest_indResult(statistic=1.4446580964036155, pvalue=0.07465793588804467)"
      ]
     },
     "execution_count": 44,
     "metadata": {},
     "output_type": "execute_result"
    }
   ],
   "source": [
    "p = nba_salaries['Salary']\n",
    "l = nba_salaries['Salary'][nba_salaries['Position']=='C']\n",
    "st.ttest_ind(l,p, alternative='greater')"
   ]
  },
  {
   "cell_type": "markdown",
   "metadata": {},
   "source": [
    "### מכיוון שקיבלנו שפיבאליו הינו 0.07, ברמת ביטחון של 95% אנו נקבל את השערת האפס, אך ברמת ביטחון של 90% אנו נדחה אותה"
   ]
  },
  {
   "cell_type": "markdown",
   "metadata": {},
   "source": [
    "<p style=\"text-align: right; direction: rtl; float: right; clear: both;\">\n",
    "<strong>ג 7 .</strong><br>\n",
    "מהו המשקל הממוצע של שחקן NBA?<br>"
   ]
  },
  {
   "cell_type": "code",
   "execution_count": 47,
   "metadata": {},
   "outputs": [
    {
     "data": {
      "text/plain": [
       "219.78571428571428"
      ]
     },
     "execution_count": 47,
     "metadata": {},
     "output_type": "execute_result"
    }
   ],
   "source": [
    "np.mean(nba_salaries['Weight'])"
   ]
  },
  {
   "cell_type": "markdown",
   "metadata": {},
   "source": [
    "<p style=\"text-align: right; direction: rtl; float: right; clear: both;\">\n",
    "<strong>ג 8 .</strong><br>\n",
    "עלתה טענה כי תוחלת משקלם של שחקנים בעמדת הפוינט-גארד (PG) שונה מתוחלת המשקל של כלל השחקנים בליגה. בידקו טענה זו. מהי מובהקות התוצאה? האם ניתן לומר האם משקלם גבוה או נמוך יותר מהמשקל של כלל האוכלוסיה?<br>"
   ]
  },
  {
   "cell_type": "code",
   "execution_count": 48,
   "metadata": {},
   "outputs": [
    {
     "data": {
      "text/plain": [
       "Ttest_indResult(statistic=-10.146131415241898, pvalue=7.237781882699931e-22)"
      ]
     },
     "execution_count": 48,
     "metadata": {},
     "output_type": "execute_result"
    }
   ],
   "source": [
    "all_players_weight = nba_salaries['Weight']\n",
    "PG_players_weight = nba_salaries['Weight'][nba_salaries['Position']=='PG']\n",
    "\n",
    "st.ttest_ind(PG_players_weight,all_players_weight,alternative='two-sided')"
   ]
  },
  {
   "cell_type": "markdown",
   "metadata": {},
   "source": [
    "### לאור זאת שקיבלנו שערך הפיבאליו שואף לאפס נוכל להגיד שיש שוני בין המדגם לאוכלוסיה "
   ]
  },
  {
   "cell_type": "markdown",
   "metadata": {},
   "source": [
    "<p style=\"text-align: right; direction: rtl; float: right; clear: both;\">\n",
    "<strong>ג 9 .</strong><br>\n",
    "בידקו את הטענה כי יש שוני בין תוחלת משכורת שחקני לוס אנג'לס לייקרס לתוחלת משכורת שחקני הבוסטון סלטיקס. מהי מסקנתך?<br>"
   ]
  },
  {
   "cell_type": "code",
   "execution_count": 49,
   "metadata": {},
   "outputs": [
    {
     "data": {
      "text/plain": [
       "Ttest_indResult(statistic=0.1374821899368491, pvalue=0.8919001800358959)"
      ]
     },
     "execution_count": 49,
     "metadata": {},
     "output_type": "execute_result"
    }
   ],
   "source": [
    "f = nba_salaries['Salary'][nba_salaries['Team']=='Boston Celtics']\n",
    "v = nba_salaries['Salary'][nba_salaries['Team']=='Los Angeles Lakers']\n",
    "st.ttest_ind(f,v,alternative='two-sided')"
   ]
  },
  {
   "cell_type": "markdown",
   "metadata": {},
   "source": [
    "### לאור זאת שקיבלנו ערך גדול מאוד בפיבאליו שכמעט בכל רמת ביטחון נקבל את השערת האפס"
   ]
  },
  {
   "cell_type": "markdown",
   "metadata": {},
   "source": [
    "<br><br><br>\n",
    "## <p style=\"text-align: right; direction: rtl; float: right;\">שאלה ד.</p>"
   ]
  },
  {
   "cell_type": "markdown",
   "metadata": {},
   "source": [
    "<p style=\"text-align: right; direction: rtl; float: right; clear: both;\">\n",
    "<strong>ד 1 .</strong><br>\n",
    "חברת כימיקלים הציגה דשן מיוחד שלטענתם יכול להגדיל משמעותית את היבול. להלן נתונים שהציגה החברה:<br>\n",
    "בדוק האם טענת החברה נכונה. מהי מסקנתך?<br>\n",
    "<br>"
   ]
  },
  {
   "cell_type": "code",
   "execution_count": 50,
   "metadata": {},
   "outputs": [
    {
     "data": {
      "text/html": [
       "<div>\n",
       "<style scoped>\n",
       "    .dataframe tbody tr th:only-of-type {\n",
       "        vertical-align: middle;\n",
       "    }\n",
       "\n",
       "    .dataframe tbody tr th {\n",
       "        vertical-align: top;\n",
       "    }\n",
       "\n",
       "    .dataframe thead th {\n",
       "        text-align: right;\n",
       "    }\n",
       "</style>\n",
       "<table border=\"1\" class=\"dataframe\">\n",
       "  <thead>\n",
       "    <tr style=\"text-align: right;\">\n",
       "      <th></th>\n",
       "      <th>num_of_field</th>\n",
       "      <th>before</th>\n",
       "      <th>after</th>\n",
       "    </tr>\n",
       "  </thead>\n",
       "  <tbody>\n",
       "    <tr>\n",
       "      <th>0</th>\n",
       "      <td>1</td>\n",
       "      <td>198</td>\n",
       "      <td>271</td>\n",
       "    </tr>\n",
       "    <tr>\n",
       "      <th>1</th>\n",
       "      <td>2</td>\n",
       "      <td>236</td>\n",
       "      <td>239</td>\n",
       "    </tr>\n",
       "    <tr>\n",
       "      <th>2</th>\n",
       "      <td>3</td>\n",
       "      <td>362</td>\n",
       "      <td>412</td>\n",
       "    </tr>\n",
       "    <tr>\n",
       "      <th>3</th>\n",
       "      <td>4</td>\n",
       "      <td>497</td>\n",
       "      <td>592</td>\n",
       "    </tr>\n",
       "    <tr>\n",
       "      <th>4</th>\n",
       "      <td>5</td>\n",
       "      <td>203</td>\n",
       "      <td>310</td>\n",
       "    </tr>\n",
       "    <tr>\n",
       "      <th>5</th>\n",
       "      <td>6</td>\n",
       "      <td>530</td>\n",
       "      <td>488</td>\n",
       "    </tr>\n",
       "    <tr>\n",
       "      <th>6</th>\n",
       "      <td>7</td>\n",
       "      <td>429</td>\n",
       "      <td>512</td>\n",
       "    </tr>\n",
       "  </tbody>\n",
       "</table>\n",
       "</div>"
      ],
      "text/plain": [
       "   num_of_field  before  after\n",
       "0             1     198    271\n",
       "1             2     236    239\n",
       "2             3     362    412\n",
       "3             4     497    592\n",
       "4             5     203    310\n",
       "5             6     530    488\n",
       "6             7     429    512"
      ]
     },
     "execution_count": 50,
     "metadata": {},
     "output_type": "execute_result"
    }
   ],
   "source": [
    "fertilizered = pd.DataFrame({\"num_of_field\": [1, 2, 3, 4, 5, 6, 7],\n",
    "                           \"before\": [198, 236, 362, 497, 203, 530, 429],\n",
    "                          \"after\": [271, 239, 412, 592, 310, 488, 512]})\n",
    "fertilizered"
   ]
  },
  {
   "cell_type": "markdown",
   "metadata": {},
   "source": [
    "<p style=\"text-align: right; direction: rtl; float: right; clear: both;\">\n",
    "בידקו האם טענת החברה נכונה. מהי מסקנתך?<br>\n",
    "<br>"
   ]
  },
  {
   "cell_type": "code",
   "execution_count": 57,
   "metadata": {},
   "outputs": [
    {
     "data": {
      "text/plain": [
       "Ttest_relResult(statistic=2.581471790797932, pvalue=0.02084344831321906)"
      ]
     },
     "execution_count": 57,
     "metadata": {},
     "output_type": "execute_result"
    }
   ],
   "source": [
    "before = fertilizered.iloc[:,1]\n",
    "after = fertilizered.iloc[:,2]\n",
    "st.ttest_rel(a = after, b = before,alternative='greater')"
   ]
  },
  {
   "cell_type": "markdown",
   "metadata": {},
   "source": [
    "## ברמת ביטחון של 99% ניתן להגיד שהטענה אינה נכונה (נקבל את השערת האפס) אך ברמת ביטחון של 95% ניתן להגיד שהטענה נכונה (נדחה את השערת האפס)"
   ]
  },
  {
   "cell_type": "markdown",
   "metadata": {},
   "source": [
    "<br><br><br>\n",
    "## <p style=\"text-align: right; direction: rtl; float: right;\">שאלה ה.</p>"
   ]
  },
  {
   "cell_type": "markdown",
   "metadata": {},
   "source": [
    "<p style=\"text-align: right; direction: rtl; float: right; clear: both;\">\n",
    "<strong>ה 1 .</strong><br>\n",
    "במדגם של 194 סטודנטים אנו רוצים לבדוק האם ההתפלגות של המגזרים שלהם שווה להתפלגות באוכלוסיה כולה.<br>\n",
    "מצאנו בויקיפדיה עולה כי בישראל יש 73.9% יהודים, 21.1% ערבים ו-5% תחת הקטגוריה 'אחר'.<br>\n",
    "במדגם האקראי שלקחנו היו 132 יהודים, 42 ערבים ו-20 המוגדרים 'אחר'.<br>"
   ]
  },
  {
   "cell_type": "code",
   "execution_count": 59,
   "metadata": {},
   "outputs": [],
   "source": [
    "students_sample = [132, 42, 20]\n",
    "expeced = [0.739*194, 0.211*194, 0.05*194]"
   ]
  },
  {
   "cell_type": "markdown",
   "metadata": {},
   "source": [
    "<p style=\"text-align: right; direction: rtl; float: right; clear: both;\">\n",
    "בצעו מבחן חי-בריבוע לטיב התאמה ובדקו האם אכן ייתכן שהתפלגות אוכלוסיית הסטודנטים זהה להתפלגות האוכלוסיה. מהי מסקנתכם?<br>\n",
    "<br>"
   ]
  },
  {
   "cell_type": "code",
   "execution_count": 60,
   "metadata": {},
   "outputs": [
    {
     "data": {
      "text/plain": [
       "Power_divergenceResult(statistic=11.86596609228638, pvalue=0.0026505634309167323)"
      ]
     },
     "execution_count": 60,
     "metadata": {},
     "output_type": "execute_result"
    }
   ],
   "source": [
    "st.chisquare(f_obs=students_sample,f_exp=expeced)"
   ]
  },
  {
   "cell_type": "markdown",
   "metadata": {},
   "source": [
    "## לאחר שקיבלנו ערך סטטיסטי 11.8 ופיואליו קטן מ-0.01 ניתן לדחות את השערת האפס שאומרת שההתפלגות אינה זהה"
   ]
  },
  {
   "cell_type": "markdown",
   "metadata": {},
   "source": [
    "<p style=\"text-align: right; direction: rtl; float: right; clear: both;\">\n",
    "<strong>ה 2 .</strong><br>\n",
    "באיצטדיון מרוצי סוסים ישנם 8 מסלולים. במשך יומיים של התחרות נערכו 240 מרוצים כאשר כל סוס רץ בכל מקצה במסלול אחר באופן רנדומלי לחלוטין. <br>אלברט ספר כמה זכיות היו בכל מסלול וקיבל את הנתונים הבאים:<br>\n",
    "[22, 46, 28, 40, 30, 30, 24, 20]<br>\n",
    "האם אכן המסלולים השונים אינם משפיעים על סיכויי הזכיה?<br>\n",
    "<br>"
   ]
  },
  {
   "cell_type": "code",
   "execution_count": 62,
   "metadata": {},
   "outputs": [
    {
     "data": {
      "text/plain": [
       "Power_divergenceResult(statistic=18.666666666666664, pvalue=0.009298218378412404)"
      ]
     },
     "execution_count": 62,
     "metadata": {},
     "output_type": "execute_result"
    }
   ],
   "source": [
    "observed = [22, 46, 28, 40, 30, 30, 24, 20]\n",
    "expected = [30, 30, 30, 30, 30, 30, 30, 30]\n",
    "st.chisquare(observed,expected)"
   ]
  },
  {
   "cell_type": "markdown",
   "metadata": {},
   "source": [
    "## לאחר שקיבלנו ערך סטטיסטי 18.6 ופיואליו קטן מ 0.01 ניתן לדחות את השערת האפס שאומרת שהם אינם משפיעים, ולכן הם כן משפיעים"
   ]
  },
  {
   "cell_type": "markdown",
   "metadata": {},
   "source": [
    "<p style=\"text-align: right; direction: rtl; float: right; clear: both;\">\n",
    "<strong>ה 3 .</strong><br>\n",
    "במפעל רשמו את מספר הפגומים והתקינים בכל משמרת (בוקר, אחר-צהריים ולילה), התיעוד נמצא בקובץ בשם defects.<br>\n",
    "קראו את הנתונים ובידקו האם יש קשר בין סוג המשמרת לבין מספר הפגומים והתקינים. מהי מסקנתכם?\n",
    "<br>"
   ]
  },
  {
   "cell_type": "code",
   "execution_count": 68,
   "metadata": {},
   "outputs": [
    {
     "data": {
      "text/html": [
       "<div>\n",
       "<style scoped>\n",
       "    .dataframe tbody tr th:only-of-type {\n",
       "        vertical-align: middle;\n",
       "    }\n",
       "\n",
       "    .dataframe tbody tr th {\n",
       "        vertical-align: top;\n",
       "    }\n",
       "\n",
       "    .dataframe thead th {\n",
       "        text-align: right;\n",
       "    }\n",
       "</style>\n",
       "<table border=\"1\" class=\"dataframe\">\n",
       "  <thead>\n",
       "    <tr style=\"text-align: right;\">\n",
       "      <th></th>\n",
       "      <th>morning</th>\n",
       "      <th>afternoon</th>\n",
       "      <th>night</th>\n",
       "    </tr>\n",
       "  </thead>\n",
       "  <tbody>\n",
       "    <tr>\n",
       "      <th>defective</th>\n",
       "      <td>30</td>\n",
       "      <td>55</td>\n",
       "      <td>75</td>\n",
       "    </tr>\n",
       "    <tr>\n",
       "      <th>proper</th>\n",
       "      <td>70</td>\n",
       "      <td>35</td>\n",
       "      <td>35</td>\n",
       "    </tr>\n",
       "  </tbody>\n",
       "</table>\n",
       "</div>"
      ],
      "text/plain": [
       "           morning  afternoon  night\n",
       "defective       30         55     75\n",
       "proper          70         35     35"
      ]
     },
     "execution_count": 68,
     "metadata": {},
     "output_type": "execute_result"
    }
   ],
   "source": [
    "PATH = \"file:///C:/Users/שירז/סטטיסטיקה/מטלה%20פייתון/Defects.csv\"\n",
    "defects = pd.read_csv(PATH, header=0, index_col=0)\n",
    "defects"
   ]
  },
  {
   "cell_type": "code",
   "execution_count": 69,
   "metadata": {},
   "outputs": [
    {
     "data": {
      "text/plain": [
       "(33.806818181818194,\n",
       " 4.5597675805207196e-08,\n",
       " 2,\n",
       " array([[53.33333333, 48.        , 58.66666667],\n",
       "        [46.66666667, 42.        , 51.33333333]]))"
      ]
     },
     "execution_count": 69,
     "metadata": {},
     "output_type": "execute_result"
    }
   ],
   "source": [
    "st.chi2_contingency(defects)"
   ]
  },
  {
   "cell_type": "markdown",
   "metadata": {},
   "source": [
    "## לאחר שקיבלנו ערך סטטיסטי 33.8 ופיואליו שואף לאפס ניתן לדחות את השערת האפס שאומרת שאין קשר בין הנתונים"
   ]
  },
  {
   "cell_type": "markdown",
   "metadata": {},
   "source": [
    "<br><br><br>\n",
    "## <p style=\"text-align: right; direction: rtl; float: right;\">כל הכבוד!</p>\n",
    "\n",
    "<p style=\"text-align: right; direction: rtl; float: right; clear: both;\">\n",
    "אם הגעת עד לכאן, אנחנו בטוחים שיש לך רצון עז להצליח!!<br>\n",
    "אנחנו מקווים שאימצתם את פייתון ככלי נוח ויעיל לביצוע חישובים סטטיסטיים.\n",
    "<br>\n",
    "    \n",
    "<br><br><br>\n",
    "## <p style=\"text-align: right; direction: rtl; float: right;\">בהצלחה!!!</p>"
   ]
  }
 ],
 "metadata": {
  "kernelspec": {
   "display_name": "Python 3",
   "language": "python",
   "name": "python3"
  },
  "language_info": {
   "codemirror_mode": {
    "name": "ipython",
    "version": 3
   },
   "file_extension": ".py",
   "mimetype": "text/x-python",
   "name": "python",
   "nbconvert_exporter": "python",
   "pygments_lexer": "ipython3",
   "version": "3.8.3"
  }
 },
 "nbformat": 4,
 "nbformat_minor": 5
}
